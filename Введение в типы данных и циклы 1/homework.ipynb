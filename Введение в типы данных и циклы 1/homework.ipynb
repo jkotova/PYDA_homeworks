{
 "cells": [
  {
   "cell_type": "markdown",
   "metadata": {},
   "source": [
    "**Задание 1**. Даны 2 строки: *long_phrase* и *short_phrase*. \n",
    "Напишите код, который проверяет действительно ли длинная фраза *long_phrase* длиннее короткой *short_phrase*. И выводит *True* или *False* в зависимости от результата сравнения."
   ]
  },
  {
   "cell_type": "code",
   "execution_count": 2,
   "metadata": {},
   "outputs": [],
   "source": [
    "long_phrase = 'Насколько проще было бы писать программы, если бы не заказчики'\n",
    "short_phrase = '640Кб должно хватить для любых задач. Билл Гейтс (по легенде)'"
   ]
  },
  {
   "cell_type": "code",
   "execution_count": 3,
   "metadata": {},
   "outputs": [
    {
     "name": "stdout",
     "output_type": "stream",
     "text": [
      "True\n"
     ]
    }
   ],
   "source": [
    "print(len(long_phrase)>len(short_phrase))"
   ]
  },
  {
   "cell_type": "markdown",
   "metadata": {},
   "source": [
    "**Задание 2**. Дано значение объема файла в байтах (*в мегабайте 2^20 байт*). Напишите перевод этого значения в мегабайты в формате: \"*Объем файла равен 213.68Mb*\"."
   ]
  },
  {
   "cell_type": "code",
   "execution_count": 6,
   "metadata": {},
   "outputs": [
    {
     "name": "stdout",
     "output_type": "stream",
     "text": [
      "Объем файла равен 953.67431640625 Mb\n"
     ]
    }
   ],
   "source": [
    "bytes = 1000000000\n",
    "mb = bytes/(2**20)\n",
    "print('Объем файла равен ' + str(mb) + ' Mb')"
   ]
  },
  {
   "cell_type": "markdown",
   "metadata": {},
   "source": [
    "**Задание 3**. Разработать приложение для определения знака зодиака по дате рождения. Пример:\n",
    "\n",
    "Введите месяц: март\n",
    "\n",
    "Введите число: 6\n",
    "\n",
    "Вывод:\n",
    "Рыбы"
   ]
  },
  {
   "cell_type": "code",
   "execution_count": 11,
   "metadata": {},
   "outputs": [
    {
     "name": "stdout",
     "output_type": "stream",
     "text": [
      "Введите месяц: октябрь\n",
      "Введите число: 3\n",
      "Вывод: Весы\n"
     ]
    }
   ],
   "source": [
    "month = input('Введите месяц: ');\n",
    "date = int(input('Введите число: '));\n",
    "zodiaс = '';\n",
    "if (month == 'январь'):\n",
    "    if (date <= 20):\n",
    "        zodiac = 'Козерог'\n",
    "    else:\n",
    "        zodiac = 'Водолей'\n",
    "elif (month == 'февраль'):\n",
    "    if (date <= 18):\n",
    "        zodiac = 'Водолей'\n",
    "    else:\n",
    "        zodiac = 'Рыбы'\n",
    "elif (month == 'март'):\n",
    "    if (date <= 20):\n",
    "        zodiac = 'Рыбы'\n",
    "    else:\n",
    "        zodiac = 'Овен'\n",
    "elif (month == 'апрель'):\n",
    "    if (date <= 19):\n",
    "        zodiac = 'Овен'\n",
    "    else:\n",
    "        zodiac = 'Телец'\n",
    "elif (month == 'май'):\n",
    "    if (date <= 20):\n",
    "        zodiac = 'Телец'\n",
    "    else:\n",
    "        zodiac = 'Близнецы'\n",
    "elif (month == 'июнь'):\n",
    "    if (date <= 21):\n",
    "        zodiac = 'Близнецы'\n",
    "    else:\n",
    "        zodiac = 'Рак'\n",
    "elif (month == 'июль'):\n",
    "    if (date <= 22):\n",
    "        zodiac = 'Рак'\n",
    "    else:\n",
    "        zodiac = 'Лев'\n",
    "elif (month == 'август'):\n",
    "    if (date <= 22):\n",
    "        zodiac = 'Лев'\n",
    "    else:\n",
    "        zodiac = 'Дева'\n",
    "elif (month == 'сентябрь'):\n",
    "    if (date <= 22):\n",
    "        zodiac = 'Дева'\n",
    "    else:\n",
    "        zodiac = 'Весы'\n",
    "elif (month == 'октябрь'):\n",
    "    if (date <= 23):\n",
    "        zodiac = 'Весы'\n",
    "    else:\n",
    "        zodiac = 'Скорпион'\n",
    "elif (month == 'ноябрь'):\n",
    "    if (date <= 22):\n",
    "        zodiac = 'Скорпион'\n",
    "    else:\n",
    "        zodiac = 'Стрелец'\n",
    "else:\n",
    "     zodiac = 'Стрелец'\n",
    "\n",
    "print('Вывод: ' + zodiac)"
   ]
  },
  {
   "cell_type": "markdown",
   "metadata": {},
   "source": [
    "**Задание 4**. Нужно разработать приложение для финансового планирования.\n",
    "Приложение учитывает сколько уходит на ипотеку, \"на жизнь\" и сколько нужно отложить на пенсию.\n",
    "Пользователь вводит:\n",
    "- заработанную плату в месяц.\n",
    "- сколько процентов от ЗП уходит на ипотеку.\n",
    "- сколько процентов от ЗП уходит \"на жизнь\".\n",
    "- сколько раз приходит премия в год.\n",
    "\n",
    "Остальная часть заработанной платы откладывается на пенсию.\n",
    "\n",
    "Также пользователю приходит премия в размере зарплаты, от которой половина уходит на отпуск, а вторая половина откладывается.\n",
    "\n",
    "Программа должна учитывать сколько премий было в год.\n",
    "\n",
    "Нужно вывести сколько денег тратит пользователь на ипотеку и сколько он накопит за год.\n",
    "\n",
    "Пример:\n",
    "\n",
    "Введите заработанную плату в месяц: 100000\n",
    "\n",
    "Введите сколько процентов уходит на ипотеку: 30\n",
    "\n",
    "Введите сколько процентов уходит на жизнь: 50\n",
    "\n",
    "Введите количество премий за год: 2\n",
    "\n",
    "Вывод:\n",
    "На ипотеку было потрачено: 360000 рублей\n",
    "Было накоплено: 340000 рублей"
   ]
  },
  {
   "cell_type": "code",
   "execution_count": 15,
   "metadata": {},
   "outputs": [
    {
     "name": "stdout",
     "output_type": "stream",
     "text": [
      "Введите размер заработанной платы: 100000\n",
      "Введите процент от ЗП, который уходит на ипотеку: 30\n",
      "Введите процент от ЗП, который уходит на жизнь: 50\n",
      "Сколько раз в год вам приходит премия? 2\n",
      "На ипотеку было потрачено: 360000.0\n",
      "Было накоплено: 340000.0\n"
     ]
    }
   ],
   "source": [
    "salary = int(input('Введите размер заработанной платы: '))\n",
    "mortgage = int(input('Введите процент от ЗП, который уходит на ипотеку: '))\n",
    "still_life = int(input('Введите процент от ЗП, который уходит на жизнь: '))\n",
    "bonuses = int(input('Сколько раз в год вам приходит премия? '))\n",
    "\n",
    "annual_mortgage = salary*12*mortgage/100\n",
    "annual_life = salary*12*still_life/100\n",
    "\n",
    "savings = salary*(12+(bonuses/2)) - annual_mortgage - annual_life\n",
    "\n",
    "\n",
    "print('На ипотеку было потрачено: ' + str(annual_mortgage));\n",
    "print('Было накоплено: ' + str(savings));"
   ]
  },
  {
   "cell_type": "code",
   "execution_count": null,
   "metadata": {},
   "outputs": [],
   "source": []
  },
  {
   "cell_type": "code",
   "execution_count": null,
   "metadata": {},
   "outputs": [],
   "source": []
  }
 ],
 "metadata": {
  "kernelspec": {
   "display_name": "Python 3",
   "language": "python",
   "name": "python3"
  },
  "language_info": {
   "codemirror_mode": {
    "name": "ipython",
    "version": 3
   },
   "file_extension": ".py",
   "mimetype": "text/x-python",
   "name": "python",
   "nbconvert_exporter": "python",
   "pygments_lexer": "ipython3",
   "version": "3.7.6"
  }
 },
 "nbformat": 4,
 "nbformat_minor": 2
}
